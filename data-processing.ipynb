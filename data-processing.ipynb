{
 "cells": [
  {
   "cell_type": "code",
   "execution_count": 9,
   "metadata": {},
   "outputs": [],
   "source": [
    "# Load library\n",
    "import pandas as pd\n",
    "import numpy as np\n",
    "import os\n",
    "import re"
   ]
  },
  {
   "cell_type": "code",
   "execution_count": 28,
   "metadata": {},
   "outputs": [],
   "source": [
    "# Create result files -> in csv format\n",
    "LOG_DIR = './save/'\n",
    "RESULT_DIR = './result/'\n",
    "EPOCH = 100\n",
    "\n",
    "top_accuracy_df = pd.DataFrame(columns=['model', 'gpu', 'dataset', 'top-1 accuracy'])\n",
    "loss_df = pd.DataFrame(columns=['Model_Name', 'GPU_Type', 'Dataset', 'Epoch', 'Val_Loss'])\n",
    "for experiment in os.listdir(LOG_DIR):\n",
    "    if experiment != 'resnet-Base--CIFAR10-LR[0.001]-Seed0-V100': \n",
    "        continue\n",
    "    experiment_dir = os.path.join(LOG_DIR, experiment)\n",
    "    if os.path.isdir(experiment_dir):\n",
    "        model, args = experiment.strip().split('--')\n",
    "        args = args.strip().split('-')\n",
    "        dataset = 'T-IMNET' if args[0] == 'T' else args[0]\n",
    "        gpu = args[-1]\n",
    "        # Get Top-1 Accuracy\n",
    "        with open(experiment_dir + '/history.csv', \"r\") as f:\n",
    "            last_line = f.readlines()[-1]\n",
    "            top_acc = float(re.findall(\"\\d+\\.\\d+\", last_line)[0])\n",
    "            new_row = {'model':model, \n",
    "                       'gpu':gpu, \n",
    "                       'dataset':dataset, \n",
    "                       'top-1 accuracy':top_acc}\n",
    "            top_accuracy_df = top_accuracy_df.append(new_row, ignore_index=True)\n",
    "        # Get Validation Loss in each Epoch\n",
    "        log_df = pd.read_csv(experiment_dir + '/log.csv')\n",
    "        for epoch, row in log_df.iterrows():\n",
    "            new_row = {'Model_Name':model, \n",
    "                       'GPU_Type':gpu, \n",
    "                       'Dataset':dataset, \n",
    "                       'Epoch':epoch,\n",
    "                       'Val_Loss':row['V Loss']}    \n",
    "            loss_df = loss_df.append(new_row, ignore_index=True)"
   ]
  },
  {
   "cell_type": "code",
   "execution_count": 22,
   "metadata": {},
   "outputs": [],
   "source": [
    "top_accuracy_df.to_csv('result/accuracy.csv', index=False) \n",
    "loss_df.to_csv('result/loss.csv', index=False)"
   ]
  }
 ],
 "metadata": {
  "kernelspec": {
   "display_name": "tf",
   "language": "python",
   "name": "python3"
  },
  "language_info": {
   "codemirror_mode": {
    "name": "ipython",
    "version": 3
   },
   "file_extension": ".py",
   "mimetype": "text/x-python",
   "name": "python",
   "nbconvert_exporter": "python",
   "pygments_lexer": "ipython3",
   "version": "3.7.9 (default, Aug 31 2020, 07:22:35) \n[Clang 10.0.0 ]"
  },
  "orig_nbformat": 4,
  "vscode": {
   "interpreter": {
    "hash": "0615a7897b192cfd93343c88bd08b6b679712cde179bb91430adb182a4eb9a17"
   }
  }
 },
 "nbformat": 4,
 "nbformat_minor": 2
}
